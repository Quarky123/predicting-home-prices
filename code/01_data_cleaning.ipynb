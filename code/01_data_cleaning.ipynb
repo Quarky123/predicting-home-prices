{
 "cells": [
  {
   "cell_type": "markdown",
   "metadata": {},
   "source": [
    "\n"
   ]
  },
  {
   "cell_type": "code",
   "execution_count": 1,
   "metadata": {},
   "outputs": [],
   "source": [
    "import pandas as pd\n",
    "import numpy as np\n",
    "import seaborn as sns\n",
    "import matplotlib.pyplot as plt\n",
    "from sklearn.linear_model import LinearRegression, LassoCV, RidgeCV\n",
    "from sklearn.linear_model import ElasticNet, ElasticNetCV\n",
    "\n",
    "from sklearn.preprocessing import PolynomialFeatures, StandardScaler\n",
    "from sklearn.model_selection import train_test_split, cross_val_score, cross_val_predict\n",
    "from sklearn.metrics import r2_score\n",
    "from sklearn.metrics import mean_squared_error\n",
    "\n",
    "\n",
    "%matplotlib inline"
   ]
  },
  {
   "cell_type": "code",
   "execution_count": 2,
   "metadata": {},
   "outputs": [],
   "source": [
    "test = pd.read_csv('../datasets/test.csv')\n",
    "# to read in the test dataset and convert it into a pd"
   ]
  },
  {
   "cell_type": "code",
   "execution_count": 3,
   "metadata": {},
   "outputs": [],
   "source": [
    "train = pd.read_csv('../datasets/train.csv')\n",
    "# to read in the train dataset and convert it into a pd"
   ]
  },
  {
   "cell_type": "markdown",
   "metadata": {},
   "source": [
    "## Data Cleaning\n",
    "- Decide how to impute null values.\n",
    "- Decide how to handle outliers.\n",
    "- Do you want to combine any features?\n",
    "- Do you want to have interaction terms?\n",
    "- Do you want to manually drop collinear features?\n",
    "\n",
    "** will deal with numerical and categorical data separately**\n"
   ]
  },
  {
   "cell_type": "markdown",
   "metadata": {},
   "source": [
    "## Data Cleaning: initial check"
   ]
  },
  {
   "cell_type": "code",
   "execution_count": 4,
   "metadata": {},
   "outputs": [
    {
     "data": {
      "text/html": [
       "<div>\n",
       "<style scoped>\n",
       "    .dataframe tbody tr th:only-of-type {\n",
       "        vertical-align: middle;\n",
       "    }\n",
       "\n",
       "    .dataframe tbody tr th {\n",
       "        vertical-align: top;\n",
       "    }\n",
       "\n",
       "    .dataframe thead th {\n",
       "        text-align: right;\n",
       "    }\n",
       "</style>\n",
       "<table border=\"1\" class=\"dataframe\">\n",
       "  <thead>\n",
       "    <tr style=\"text-align: right;\">\n",
       "      <th></th>\n",
       "      <th>Id</th>\n",
       "      <th>PID</th>\n",
       "      <th>MS SubClass</th>\n",
       "      <th>MS Zoning</th>\n",
       "      <th>Lot Frontage</th>\n",
       "      <th>Lot Area</th>\n",
       "      <th>Street</th>\n",
       "      <th>Alley</th>\n",
       "      <th>Lot Shape</th>\n",
       "      <th>Land Contour</th>\n",
       "      <th>...</th>\n",
       "      <th>3Ssn Porch</th>\n",
       "      <th>Screen Porch</th>\n",
       "      <th>Pool Area</th>\n",
       "      <th>Pool QC</th>\n",
       "      <th>Fence</th>\n",
       "      <th>Misc Feature</th>\n",
       "      <th>Misc Val</th>\n",
       "      <th>Mo Sold</th>\n",
       "      <th>Yr Sold</th>\n",
       "      <th>Sale Type</th>\n",
       "    </tr>\n",
       "  </thead>\n",
       "  <tbody>\n",
       "    <tr>\n",
       "      <th>0</th>\n",
       "      <td>2658</td>\n",
       "      <td>902301120</td>\n",
       "      <td>190</td>\n",
       "      <td>RM</td>\n",
       "      <td>69.0</td>\n",
       "      <td>9142</td>\n",
       "      <td>Pave</td>\n",
       "      <td>Grvl</td>\n",
       "      <td>Reg</td>\n",
       "      <td>Lvl</td>\n",
       "      <td>...</td>\n",
       "      <td>0</td>\n",
       "      <td>0</td>\n",
       "      <td>0</td>\n",
       "      <td>NaN</td>\n",
       "      <td>NaN</td>\n",
       "      <td>NaN</td>\n",
       "      <td>0</td>\n",
       "      <td>4</td>\n",
       "      <td>2006</td>\n",
       "      <td>WD</td>\n",
       "    </tr>\n",
       "    <tr>\n",
       "      <th>1</th>\n",
       "      <td>2718</td>\n",
       "      <td>905108090</td>\n",
       "      <td>90</td>\n",
       "      <td>RL</td>\n",
       "      <td>NaN</td>\n",
       "      <td>9662</td>\n",
       "      <td>Pave</td>\n",
       "      <td>NaN</td>\n",
       "      <td>IR1</td>\n",
       "      <td>Lvl</td>\n",
       "      <td>...</td>\n",
       "      <td>0</td>\n",
       "      <td>0</td>\n",
       "      <td>0</td>\n",
       "      <td>NaN</td>\n",
       "      <td>NaN</td>\n",
       "      <td>NaN</td>\n",
       "      <td>0</td>\n",
       "      <td>8</td>\n",
       "      <td>2006</td>\n",
       "      <td>WD</td>\n",
       "    </tr>\n",
       "    <tr>\n",
       "      <th>2</th>\n",
       "      <td>2414</td>\n",
       "      <td>528218130</td>\n",
       "      <td>60</td>\n",
       "      <td>RL</td>\n",
       "      <td>58.0</td>\n",
       "      <td>17104</td>\n",
       "      <td>Pave</td>\n",
       "      <td>NaN</td>\n",
       "      <td>IR1</td>\n",
       "      <td>Lvl</td>\n",
       "      <td>...</td>\n",
       "      <td>0</td>\n",
       "      <td>0</td>\n",
       "      <td>0</td>\n",
       "      <td>NaN</td>\n",
       "      <td>NaN</td>\n",
       "      <td>NaN</td>\n",
       "      <td>0</td>\n",
       "      <td>9</td>\n",
       "      <td>2006</td>\n",
       "      <td>New</td>\n",
       "    </tr>\n",
       "    <tr>\n",
       "      <th>3</th>\n",
       "      <td>1989</td>\n",
       "      <td>902207150</td>\n",
       "      <td>30</td>\n",
       "      <td>RM</td>\n",
       "      <td>60.0</td>\n",
       "      <td>8520</td>\n",
       "      <td>Pave</td>\n",
       "      <td>NaN</td>\n",
       "      <td>Reg</td>\n",
       "      <td>Lvl</td>\n",
       "      <td>...</td>\n",
       "      <td>0</td>\n",
       "      <td>0</td>\n",
       "      <td>0</td>\n",
       "      <td>NaN</td>\n",
       "      <td>NaN</td>\n",
       "      <td>NaN</td>\n",
       "      <td>0</td>\n",
       "      <td>7</td>\n",
       "      <td>2007</td>\n",
       "      <td>WD</td>\n",
       "    </tr>\n",
       "    <tr>\n",
       "      <th>4</th>\n",
       "      <td>625</td>\n",
       "      <td>535105100</td>\n",
       "      <td>20</td>\n",
       "      <td>RL</td>\n",
       "      <td>NaN</td>\n",
       "      <td>9500</td>\n",
       "      <td>Pave</td>\n",
       "      <td>NaN</td>\n",
       "      <td>IR1</td>\n",
       "      <td>Lvl</td>\n",
       "      <td>...</td>\n",
       "      <td>0</td>\n",
       "      <td>185</td>\n",
       "      <td>0</td>\n",
       "      <td>NaN</td>\n",
       "      <td>NaN</td>\n",
       "      <td>NaN</td>\n",
       "      <td>0</td>\n",
       "      <td>7</td>\n",
       "      <td>2009</td>\n",
       "      <td>WD</td>\n",
       "    </tr>\n",
       "  </tbody>\n",
       "</table>\n",
       "<p>5 rows × 80 columns</p>\n",
       "</div>"
      ],
      "text/plain": [
       "     Id        PID  MS SubClass MS Zoning  Lot Frontage  Lot Area Street  \\\n",
       "0  2658  902301120          190        RM          69.0      9142   Pave   \n",
       "1  2718  905108090           90        RL           NaN      9662   Pave   \n",
       "2  2414  528218130           60        RL          58.0     17104   Pave   \n",
       "3  1989  902207150           30        RM          60.0      8520   Pave   \n",
       "4   625  535105100           20        RL           NaN      9500   Pave   \n",
       "\n",
       "  Alley Lot Shape Land Contour  ... 3Ssn Porch Screen Porch Pool Area Pool QC  \\\n",
       "0  Grvl       Reg          Lvl  ...          0            0         0     NaN   \n",
       "1   NaN       IR1          Lvl  ...          0            0         0     NaN   \n",
       "2   NaN       IR1          Lvl  ...          0            0         0     NaN   \n",
       "3   NaN       Reg          Lvl  ...          0            0         0     NaN   \n",
       "4   NaN       IR1          Lvl  ...          0          185         0     NaN   \n",
       "\n",
       "  Fence Misc Feature Misc Val Mo Sold  Yr Sold  Sale Type  \n",
       "0   NaN          NaN        0       4     2006        WD   \n",
       "1   NaN          NaN        0       8     2006        WD   \n",
       "2   NaN          NaN        0       9     2006        New  \n",
       "3   NaN          NaN        0       7     2007        WD   \n",
       "4   NaN          NaN        0       7     2009        WD   \n",
       "\n",
       "[5 rows x 80 columns]"
      ]
     },
     "execution_count": 4,
     "metadata": {},
     "output_type": "execute_result"
    }
   ],
   "source": [
    "test.head()\n",
    "#to look at the top 5 rows of test"
   ]
  },
  {
   "cell_type": "code",
   "execution_count": 5,
   "metadata": {},
   "outputs": [
    {
     "data": {
      "text/html": [
       "<div>\n",
       "<style scoped>\n",
       "    .dataframe tbody tr th:only-of-type {\n",
       "        vertical-align: middle;\n",
       "    }\n",
       "\n",
       "    .dataframe tbody tr th {\n",
       "        vertical-align: top;\n",
       "    }\n",
       "\n",
       "    .dataframe thead th {\n",
       "        text-align: right;\n",
       "    }\n",
       "</style>\n",
       "<table border=\"1\" class=\"dataframe\">\n",
       "  <thead>\n",
       "    <tr style=\"text-align: right;\">\n",
       "      <th></th>\n",
       "      <th>Id</th>\n",
       "      <th>PID</th>\n",
       "      <th>MS SubClass</th>\n",
       "      <th>MS Zoning</th>\n",
       "      <th>Lot Frontage</th>\n",
       "      <th>Lot Area</th>\n",
       "      <th>Street</th>\n",
       "      <th>Alley</th>\n",
       "      <th>Lot Shape</th>\n",
       "      <th>Land Contour</th>\n",
       "      <th>...</th>\n",
       "      <th>Screen Porch</th>\n",
       "      <th>Pool Area</th>\n",
       "      <th>Pool QC</th>\n",
       "      <th>Fence</th>\n",
       "      <th>Misc Feature</th>\n",
       "      <th>Misc Val</th>\n",
       "      <th>Mo Sold</th>\n",
       "      <th>Yr Sold</th>\n",
       "      <th>Sale Type</th>\n",
       "      <th>SalePrice</th>\n",
       "    </tr>\n",
       "  </thead>\n",
       "  <tbody>\n",
       "    <tr>\n",
       "      <th>0</th>\n",
       "      <td>109</td>\n",
       "      <td>533352170</td>\n",
       "      <td>60</td>\n",
       "      <td>RL</td>\n",
       "      <td>NaN</td>\n",
       "      <td>13517</td>\n",
       "      <td>Pave</td>\n",
       "      <td>NaN</td>\n",
       "      <td>IR1</td>\n",
       "      <td>Lvl</td>\n",
       "      <td>...</td>\n",
       "      <td>0</td>\n",
       "      <td>0</td>\n",
       "      <td>NaN</td>\n",
       "      <td>NaN</td>\n",
       "      <td>NaN</td>\n",
       "      <td>0</td>\n",
       "      <td>3</td>\n",
       "      <td>2010</td>\n",
       "      <td>WD</td>\n",
       "      <td>130500</td>\n",
       "    </tr>\n",
       "    <tr>\n",
       "      <th>1</th>\n",
       "      <td>544</td>\n",
       "      <td>531379050</td>\n",
       "      <td>60</td>\n",
       "      <td>RL</td>\n",
       "      <td>43.0</td>\n",
       "      <td>11492</td>\n",
       "      <td>Pave</td>\n",
       "      <td>NaN</td>\n",
       "      <td>IR1</td>\n",
       "      <td>Lvl</td>\n",
       "      <td>...</td>\n",
       "      <td>0</td>\n",
       "      <td>0</td>\n",
       "      <td>NaN</td>\n",
       "      <td>NaN</td>\n",
       "      <td>NaN</td>\n",
       "      <td>0</td>\n",
       "      <td>4</td>\n",
       "      <td>2009</td>\n",
       "      <td>WD</td>\n",
       "      <td>220000</td>\n",
       "    </tr>\n",
       "    <tr>\n",
       "      <th>2</th>\n",
       "      <td>153</td>\n",
       "      <td>535304180</td>\n",
       "      <td>20</td>\n",
       "      <td>RL</td>\n",
       "      <td>68.0</td>\n",
       "      <td>7922</td>\n",
       "      <td>Pave</td>\n",
       "      <td>NaN</td>\n",
       "      <td>Reg</td>\n",
       "      <td>Lvl</td>\n",
       "      <td>...</td>\n",
       "      <td>0</td>\n",
       "      <td>0</td>\n",
       "      <td>NaN</td>\n",
       "      <td>NaN</td>\n",
       "      <td>NaN</td>\n",
       "      <td>0</td>\n",
       "      <td>1</td>\n",
       "      <td>2010</td>\n",
       "      <td>WD</td>\n",
       "      <td>109000</td>\n",
       "    </tr>\n",
       "    <tr>\n",
       "      <th>3</th>\n",
       "      <td>318</td>\n",
       "      <td>916386060</td>\n",
       "      <td>60</td>\n",
       "      <td>RL</td>\n",
       "      <td>73.0</td>\n",
       "      <td>9802</td>\n",
       "      <td>Pave</td>\n",
       "      <td>NaN</td>\n",
       "      <td>Reg</td>\n",
       "      <td>Lvl</td>\n",
       "      <td>...</td>\n",
       "      <td>0</td>\n",
       "      <td>0</td>\n",
       "      <td>NaN</td>\n",
       "      <td>NaN</td>\n",
       "      <td>NaN</td>\n",
       "      <td>0</td>\n",
       "      <td>4</td>\n",
       "      <td>2010</td>\n",
       "      <td>WD</td>\n",
       "      <td>174000</td>\n",
       "    </tr>\n",
       "    <tr>\n",
       "      <th>4</th>\n",
       "      <td>255</td>\n",
       "      <td>906425045</td>\n",
       "      <td>50</td>\n",
       "      <td>RL</td>\n",
       "      <td>82.0</td>\n",
       "      <td>14235</td>\n",
       "      <td>Pave</td>\n",
       "      <td>NaN</td>\n",
       "      <td>IR1</td>\n",
       "      <td>Lvl</td>\n",
       "      <td>...</td>\n",
       "      <td>0</td>\n",
       "      <td>0</td>\n",
       "      <td>NaN</td>\n",
       "      <td>NaN</td>\n",
       "      <td>NaN</td>\n",
       "      <td>0</td>\n",
       "      <td>3</td>\n",
       "      <td>2010</td>\n",
       "      <td>WD</td>\n",
       "      <td>138500</td>\n",
       "    </tr>\n",
       "  </tbody>\n",
       "</table>\n",
       "<p>5 rows × 81 columns</p>\n",
       "</div>"
      ],
      "text/plain": [
       "    Id        PID  MS SubClass MS Zoning  Lot Frontage  Lot Area Street Alley  \\\n",
       "0  109  533352170           60        RL           NaN     13517   Pave   NaN   \n",
       "1  544  531379050           60        RL          43.0     11492   Pave   NaN   \n",
       "2  153  535304180           20        RL          68.0      7922   Pave   NaN   \n",
       "3  318  916386060           60        RL          73.0      9802   Pave   NaN   \n",
       "4  255  906425045           50        RL          82.0     14235   Pave   NaN   \n",
       "\n",
       "  Lot Shape Land Contour  ... Screen Porch Pool Area Pool QC Fence  \\\n",
       "0       IR1          Lvl  ...            0         0     NaN   NaN   \n",
       "1       IR1          Lvl  ...            0         0     NaN   NaN   \n",
       "2       Reg          Lvl  ...            0         0     NaN   NaN   \n",
       "3       Reg          Lvl  ...            0         0     NaN   NaN   \n",
       "4       IR1          Lvl  ...            0         0     NaN   NaN   \n",
       "\n",
       "  Misc Feature Misc Val Mo Sold Yr Sold  Sale Type  SalePrice  \n",
       "0          NaN        0       3    2010        WD      130500  \n",
       "1          NaN        0       4    2009        WD      220000  \n",
       "2          NaN        0       1    2010        WD      109000  \n",
       "3          NaN        0       4    2010        WD      174000  \n",
       "4          NaN        0       3    2010        WD      138500  \n",
       "\n",
       "[5 rows x 81 columns]"
      ]
     },
     "execution_count": 5,
     "metadata": {},
     "output_type": "execute_result"
    }
   ],
   "source": [
    "train.head()\n",
    "#to look at the top 5 rows of train"
   ]
  },
  {
   "cell_type": "markdown",
   "metadata": {},
   "source": []
  },
  {
   "cell_type": "code",
   "execution_count": 6,
   "metadata": {},
   "outputs": [
    {
     "name": "stdout",
     "output_type": "stream",
     "text": [
      "Id , 0\n",
      "PID , 0\n",
      "MS SubClass , 0\n",
      "MS Zoning , 0\n",
      "Lot Frontage , 160\n",
      "Lot Area , 0\n",
      "Street , 0\n",
      "Alley , 821\n",
      "Lot Shape , 0\n",
      "Land Contour , 0\n",
      "Utilities , 0\n",
      "Lot Config , 0\n",
      "Land Slope , 0\n",
      "Neighborhood , 0\n",
      "Condition 1 , 0\n",
      "Condition 2 , 0\n",
      "Bldg Type , 0\n",
      "House Style , 0\n",
      "Overall Qual , 0\n",
      "Overall Cond , 0\n",
      "Year Built , 0\n",
      "Year Remod/Add , 0\n",
      "Roof Style , 0\n",
      "Roof Matl , 0\n",
      "Exterior 1st , 0\n",
      "Exterior 2nd , 0\n",
      "Mas Vnr Type , 1\n",
      "Mas Vnr Area , 1\n",
      "Exter Qual , 0\n",
      "Exter Cond , 0\n",
      "Foundation , 0\n",
      "Bsmt Qual , 25\n",
      "Bsmt Cond , 25\n",
      "Bsmt Exposure , 25\n",
      "BsmtFin Type 1 , 25\n",
      "BsmtFin SF 1 , 0\n",
      "BsmtFin Type 2 , 25\n",
      "BsmtFin SF 2 , 0\n",
      "Bsmt Unf SF , 0\n",
      "Total Bsmt SF , 0\n",
      "Heating , 0\n",
      "Heating QC , 0\n",
      "Central Air , 0\n",
      "Electrical , 1\n",
      "1st Flr SF , 0\n",
      "2nd Flr SF , 0\n",
      "Low Qual Fin SF , 0\n",
      "Gr Liv Area , 0\n",
      "Bsmt Full Bath , 0\n",
      "Bsmt Half Bath , 0\n",
      "Full Bath , 0\n",
      "Half Bath , 0\n",
      "Bedroom AbvGr , 0\n",
      "Kitchen AbvGr , 0\n",
      "Kitchen Qual , 0\n",
      "TotRms AbvGrd , 0\n",
      "Functional , 0\n",
      "Fireplaces , 0\n",
      "Fireplace Qu , 422\n",
      "Garage Type , 44\n",
      "Garage Yr Blt , 45\n",
      "Garage Finish , 45\n",
      "Garage Cars , 0\n",
      "Garage Area , 0\n",
      "Garage Qual , 45\n",
      "Garage Cond , 45\n",
      "Paved Drive , 0\n",
      "Wood Deck SF , 0\n",
      "Open Porch SF , 0\n",
      "Enclosed Porch , 0\n",
      "3Ssn Porch , 0\n",
      "Screen Porch , 0\n",
      "Pool Area , 0\n",
      "Pool QC , 875\n",
      "Fence , 707\n",
      "Misc Feature , 838\n",
      "Misc Val , 0\n",
      "Mo Sold , 0\n",
      "Yr Sold , 0\n",
      "Sale Type , 0\n"
     ]
    }
   ],
   "source": [
    "obj =test.isnull().sum()\n",
    "for key,value in obj.iteritems():\n",
    "    print(key,\",\",value)\n",
    "# to check for null values in each columns of test, not just the summary"
   ]
  },
  {
   "cell_type": "code",
   "execution_count": 7,
   "metadata": {},
   "outputs": [
    {
     "name": "stdout",
     "output_type": "stream",
     "text": [
      "Id , 0\n",
      "PID , 0\n",
      "MS SubClass , 0\n",
      "MS Zoning , 0\n",
      "Lot Frontage , 160\n",
      "Lot Area , 0\n",
      "Street , 0\n",
      "Alley , 821\n",
      "Lot Shape , 0\n",
      "Land Contour , 0\n",
      "Utilities , 0\n",
      "Lot Config , 0\n",
      "Land Slope , 0\n",
      "Neighborhood , 0\n",
      "Condition 1 , 0\n",
      "Condition 2 , 0\n",
      "Bldg Type , 0\n",
      "House Style , 0\n",
      "Overall Qual , 0\n",
      "Overall Cond , 0\n",
      "Year Built , 0\n",
      "Year Remod/Add , 0\n",
      "Roof Style , 0\n",
      "Roof Matl , 0\n",
      "Exterior 1st , 0\n",
      "Exterior 2nd , 0\n",
      "Mas Vnr Type , 1\n",
      "Mas Vnr Area , 1\n",
      "Exter Qual , 0\n",
      "Exter Cond , 0\n",
      "Foundation , 0\n",
      "Bsmt Qual , 25\n",
      "Bsmt Cond , 25\n",
      "Bsmt Exposure , 25\n",
      "BsmtFin Type 1 , 25\n",
      "BsmtFin SF 1 , 0\n",
      "BsmtFin Type 2 , 25\n",
      "BsmtFin SF 2 , 0\n",
      "Bsmt Unf SF , 0\n",
      "Total Bsmt SF , 0\n",
      "Heating , 0\n",
      "Heating QC , 0\n",
      "Central Air , 0\n",
      "Electrical , 1\n",
      "1st Flr SF , 0\n",
      "2nd Flr SF , 0\n",
      "Low Qual Fin SF , 0\n",
      "Gr Liv Area , 0\n",
      "Bsmt Full Bath , 0\n",
      "Bsmt Half Bath , 0\n",
      "Full Bath , 0\n",
      "Half Bath , 0\n",
      "Bedroom AbvGr , 0\n",
      "Kitchen AbvGr , 0\n",
      "Kitchen Qual , 0\n",
      "TotRms AbvGrd , 0\n",
      "Functional , 0\n",
      "Fireplaces , 0\n",
      "Fireplace Qu , 422\n",
      "Garage Type , 44\n",
      "Garage Yr Blt , 45\n",
      "Garage Finish , 45\n",
      "Garage Cars , 0\n",
      "Garage Area , 0\n",
      "Garage Qual , 45\n",
      "Garage Cond , 45\n",
      "Paved Drive , 0\n",
      "Wood Deck SF , 0\n",
      "Open Porch SF , 0\n",
      "Enclosed Porch , 0\n",
      "3Ssn Porch , 0\n",
      "Screen Porch , 0\n",
      "Pool Area , 0\n",
      "Pool QC , 875\n",
      "Fence , 707\n",
      "Misc Feature , 838\n",
      "Misc Val , 0\n",
      "Mo Sold , 0\n",
      "Yr Sold , 0\n",
      "Sale Type , 0\n"
     ]
    }
   ],
   "source": [
    "train.isnull().sum()\n",
    "for key,value in obj.iteritems():\n",
    "    print(key,\",\",value)\n",
    "# to check for null values in each columns of train, not just the summary"
   ]
  },
  {
   "cell_type": "code",
   "execution_count": 8,
   "metadata": {},
   "outputs": [
    {
     "name": "stdout",
     "output_type": "stream",
     "text": [
      "Id                int64\n",
      "PID               int64\n",
      "MS SubClass       int64\n",
      "MS Zoning        object\n",
      "Lot Frontage    float64\n",
      "                 ...   \n",
      "Misc Feature     object\n",
      "Misc Val          int64\n",
      "Mo Sold           int64\n",
      "Yr Sold           int64\n",
      "Sale Type        object\n",
      "Length: 80, dtype: object\n"
     ]
    }
   ],
   "source": [
    "print (test.dtypes)\n",
    "#to see the datatypes "
   ]
  },
  {
   "cell_type": "code",
   "execution_count": 9,
   "metadata": {},
   "outputs": [
    {
     "name": "stdout",
     "output_type": "stream",
     "text": [
      "Id                   int64\n",
      "PID                  int64\n",
      "MS SubClass          int64\n",
      "MS Zoning           object\n",
      "Lot Frontage       float64\n",
      "Lot Area             int64\n",
      "Street              object\n",
      "Alley               object\n",
      "Lot Shape           object\n",
      "Land Contour        object\n",
      "Utilities           object\n",
      "Lot Config          object\n",
      "Land Slope          object\n",
      "Neighborhood        object\n",
      "Condition 1         object\n",
      "Condition 2         object\n",
      "Bldg Type           object\n",
      "House Style         object\n",
      "Overall Qual         int64\n",
      "Overall Cond         int64\n",
      "Year Built           int64\n",
      "Year Remod/Add       int64\n",
      "Roof Style          object\n",
      "Roof Matl           object\n",
      "Exterior 1st        object\n",
      "Exterior 2nd        object\n",
      "Mas Vnr Type        object\n",
      "Mas Vnr Area       float64\n",
      "Exter Qual          object\n",
      "Exter Cond          object\n",
      "Foundation          object\n",
      "Bsmt Qual           object\n",
      "Bsmt Cond           object\n",
      "Bsmt Exposure       object\n",
      "BsmtFin Type 1      object\n",
      "BsmtFin SF 1         int64\n",
      "BsmtFin Type 2      object\n",
      "BsmtFin SF 2         int64\n",
      "Bsmt Unf SF          int64\n",
      "Total Bsmt SF        int64\n",
      "Heating             object\n",
      "Heating QC          object\n",
      "Central Air         object\n",
      "Electrical          object\n",
      "1st Flr SF           int64\n",
      "2nd Flr SF           int64\n",
      "Low Qual Fin SF      int64\n",
      "Gr Liv Area          int64\n",
      "Bsmt Full Bath       int64\n",
      "Bsmt Half Bath       int64\n",
      "Full Bath            int64\n",
      "Half Bath            int64\n",
      "Bedroom AbvGr        int64\n",
      "Kitchen AbvGr        int64\n",
      "Kitchen Qual        object\n",
      "TotRms AbvGrd        int64\n",
      "Functional          object\n",
      "Fireplaces           int64\n",
      "Fireplace Qu        object\n",
      "Garage Type         object\n",
      "Garage Yr Blt      float64\n",
      "Garage Finish       object\n",
      "Garage Cars          int64\n",
      "Garage Area          int64\n",
      "Garage Qual         object\n",
      "Garage Cond         object\n",
      "Paved Drive         object\n",
      "Wood Deck SF         int64\n",
      "Open Porch SF        int64\n",
      "Enclosed Porch       int64\n",
      "3Ssn Porch           int64\n",
      "Screen Porch         int64\n",
      "Pool Area            int64\n",
      "Pool QC             object\n",
      "Fence               object\n",
      "Misc Feature        object\n",
      "Misc Val             int64\n",
      "Mo Sold              int64\n",
      "Yr Sold              int64\n",
      "Sale Type           object\n",
      "dtype: object\n"
     ]
    }
   ],
   "source": [
    "with pd.option_context('display.max_rows', None, 'display.max_columns', None):\n",
    "    print(test.dtypes)\n",
    "\n",
    "# to check for types in each columns, not just the summary"
   ]
  },
  {
   "cell_type": "code",
   "execution_count": 10,
   "metadata": {},
   "outputs": [
    {
     "name": "stdout",
     "output_type": "stream",
     "text": [
      "Id                   int64\n",
      "PID                  int64\n",
      "MS SubClass          int64\n",
      "MS Zoning           object\n",
      "Lot Frontage       float64\n",
      "Lot Area             int64\n",
      "Street              object\n",
      "Alley               object\n",
      "Lot Shape           object\n",
      "Land Contour        object\n",
      "Utilities           object\n",
      "Lot Config          object\n",
      "Land Slope          object\n",
      "Neighborhood        object\n",
      "Condition 1         object\n",
      "Condition 2         object\n",
      "Bldg Type           object\n",
      "House Style         object\n",
      "Overall Qual         int64\n",
      "Overall Cond         int64\n",
      "Year Built           int64\n",
      "Year Remod/Add       int64\n",
      "Roof Style          object\n",
      "Roof Matl           object\n",
      "Exterior 1st        object\n",
      "Exterior 2nd        object\n",
      "Mas Vnr Type        object\n",
      "Mas Vnr Area       float64\n",
      "Exter Qual          object\n",
      "Exter Cond          object\n",
      "Foundation          object\n",
      "Bsmt Qual           object\n",
      "Bsmt Cond           object\n",
      "Bsmt Exposure       object\n",
      "BsmtFin Type 1      object\n",
      "BsmtFin SF 1       float64\n",
      "BsmtFin Type 2      object\n",
      "BsmtFin SF 2       float64\n",
      "Bsmt Unf SF        float64\n",
      "Total Bsmt SF      float64\n",
      "Heating             object\n",
      "Heating QC          object\n",
      "Central Air         object\n",
      "Electrical          object\n",
      "1st Flr SF           int64\n",
      "2nd Flr SF           int64\n",
      "Low Qual Fin SF      int64\n",
      "Gr Liv Area          int64\n",
      "Bsmt Full Bath     float64\n",
      "Bsmt Half Bath     float64\n",
      "Full Bath            int64\n",
      "Half Bath            int64\n",
      "Bedroom AbvGr        int64\n",
      "Kitchen AbvGr        int64\n",
      "Kitchen Qual        object\n",
      "TotRms AbvGrd        int64\n",
      "Functional          object\n",
      "Fireplaces           int64\n",
      "Fireplace Qu        object\n",
      "Garage Type         object\n",
      "Garage Yr Blt      float64\n",
      "Garage Finish       object\n",
      "Garage Cars        float64\n",
      "Garage Area        float64\n",
      "Garage Qual         object\n",
      "Garage Cond         object\n",
      "Paved Drive         object\n",
      "Wood Deck SF         int64\n",
      "Open Porch SF        int64\n",
      "Enclosed Porch       int64\n",
      "3Ssn Porch           int64\n",
      "Screen Porch         int64\n",
      "Pool Area            int64\n",
      "Pool QC             object\n",
      "Fence               object\n",
      "Misc Feature        object\n",
      "Misc Val             int64\n",
      "Mo Sold              int64\n",
      "Yr Sold              int64\n",
      "Sale Type           object\n",
      "SalePrice            int64\n",
      "dtype: object\n"
     ]
    }
   ],
   "source": [
    "with pd.option_context('display.max_rows', None, 'display.max_columns', None):\n",
    "    print(train.dtypes)\n",
    "\n",
    "# to check for types in each columns, not just the summary"
   ]
  },
  {
   "cell_type": "markdown",
   "metadata": {},
   "source": [
    "## Data cleaning: Handling Null values"
   ]
  },
  {
   "cell_type": "markdown",
   "metadata": {},
   "source": [
    "- The columns with too many Null values and NaN values will be filled with the median of the column. \n",
    "- the rows with empty rows will be removed\n"
   ]
  },
  {
   "cell_type": "code",
   "execution_count": 11,
   "metadata": {},
   "outputs": [
    {
     "data": {
      "text/plain": [
       "(2051, 81)"
      ]
     },
     "execution_count": 11,
     "metadata": {},
     "output_type": "execute_result"
    }
   ],
   "source": [
    "train.shape\n",
    "#to see the shape of the train dataframe"
   ]
  },
  {
   "cell_type": "code",
   "execution_count": 12,
   "metadata": {},
   "outputs": [
    {
     "data": {
      "text/plain": [
       "Index(['Id', 'PID', 'MS SubClass', 'MS Zoning', 'Lot Frontage', 'Lot Area',\n",
       "       'Street', 'Alley', 'Lot Shape', 'Land Contour', 'Utilities',\n",
       "       'Lot Config', 'Land Slope', 'Neighborhood', 'Condition 1',\n",
       "       'Condition 2', 'Bldg Type', 'House Style', 'Overall Qual',\n",
       "       'Overall Cond', 'Year Built', 'Year Remod/Add', 'Roof Style',\n",
       "       'Roof Matl', 'Exterior 1st', 'Exterior 2nd', 'Mas Vnr Type',\n",
       "       'Mas Vnr Area', 'Exter Qual', 'Exter Cond', 'Foundation', 'Bsmt Qual',\n",
       "       'Bsmt Cond', 'Bsmt Exposure', 'BsmtFin Type 1', 'BsmtFin SF 1',\n",
       "       'BsmtFin Type 2', 'BsmtFin SF 2', 'Bsmt Unf SF', 'Total Bsmt SF',\n",
       "       'Heating', 'Heating QC', 'Central Air', 'Electrical', '1st Flr SF',\n",
       "       '2nd Flr SF', 'Low Qual Fin SF', 'Gr Liv Area', 'Bsmt Full Bath',\n",
       "       'Bsmt Half Bath', 'Full Bath', 'Half Bath', 'Bedroom AbvGr',\n",
       "       'Kitchen AbvGr', 'Kitchen Qual', 'TotRms AbvGrd', 'Functional',\n",
       "       'Fireplaces', 'Fireplace Qu', 'Garage Type', 'Garage Yr Blt',\n",
       "       'Garage Finish', 'Garage Cars', 'Garage Area', 'Garage Qual',\n",
       "       'Garage Cond', 'Paved Drive', 'Wood Deck SF', 'Open Porch SF',\n",
       "       'Enclosed Porch', '3Ssn Porch', 'Screen Porch', 'Pool Area', 'Pool QC',\n",
       "       'Fence', 'Misc Feature', 'Misc Val', 'Mo Sold', 'Yr Sold', 'Sale Type',\n",
       "       'SalePrice'],\n",
       "      dtype='object')"
      ]
     },
     "execution_count": 12,
     "metadata": {},
     "output_type": "execute_result"
    }
   ],
   "source": [
    "train.columns\n",
    "#train has SalePrice column but test does not "
   ]
  },
  {
   "cell_type": "code",
   "execution_count": 13,
   "metadata": {},
   "outputs": [
    {
     "data": {
      "text/plain": [
       "Id                0\n",
       "PID               0\n",
       "MS SubClass       0\n",
       "MS Zoning         0\n",
       "Lot Frontage    330\n",
       "               ... \n",
       "Misc Val          0\n",
       "Mo Sold           0\n",
       "Yr Sold           0\n",
       "Sale Type         0\n",
       "SalePrice         0\n",
       "Length: 81, dtype: int64"
      ]
     },
     "execution_count": 13,
     "metadata": {},
     "output_type": "execute_result"
    }
   ],
   "source": [
    "train.isnull().sum()\n",
    "#check for any null values"
   ]
  },
  {
   "cell_type": "code",
   "execution_count": 14,
   "metadata": {},
   "outputs": [
    {
     "name": "stdout",
     "output_type": "stream",
     "text": [
      "9822\n"
     ]
    }
   ],
   "source": [
    "print(train.isnull().values.sum())\n",
    "#check for the sum of all null values"
   ]
  },
  {
   "cell_type": "markdown",
   "metadata": {},
   "source": [
    "### Fill NA of numerical test set"
   ]
  },
  {
   "cell_type": "code",
   "execution_count": 15,
   "metadata": {},
   "outputs": [
    {
     "data": {
      "text/plain": [
       "Index(['Id', 'PID', 'MS SubClass', 'MS Zoning', 'Lot Frontage', 'Lot Area',\n",
       "       'Street', 'Alley', 'Lot Shape', 'Land Contour', 'Utilities',\n",
       "       'Lot Config', 'Land Slope', 'Neighborhood', 'Condition 1',\n",
       "       'Condition 2', 'Bldg Type', 'House Style', 'Overall Qual',\n",
       "       'Overall Cond', 'Year Built', 'Year Remod/Add', 'Roof Style',\n",
       "       'Roof Matl', 'Exterior 1st', 'Exterior 2nd', 'Mas Vnr Type',\n",
       "       'Mas Vnr Area', 'Exter Qual', 'Exter Cond', 'Foundation', 'Bsmt Qual',\n",
       "       'Bsmt Cond', 'Bsmt Exposure', 'BsmtFin Type 1', 'BsmtFin SF 1',\n",
       "       'BsmtFin Type 2', 'BsmtFin SF 2', 'Bsmt Unf SF', 'Total Bsmt SF',\n",
       "       'Heating', 'Heating QC', 'Central Air', 'Electrical', '1st Flr SF',\n",
       "       '2nd Flr SF', 'Low Qual Fin SF', 'Gr Liv Area', 'Bsmt Full Bath',\n",
       "       'Bsmt Half Bath', 'Full Bath', 'Half Bath', 'Bedroom AbvGr',\n",
       "       'Kitchen AbvGr', 'Kitchen Qual', 'TotRms AbvGrd', 'Functional',\n",
       "       'Fireplaces', 'Fireplace Qu', 'Garage Type', 'Garage Yr Blt',\n",
       "       'Garage Finish', 'Garage Cars', 'Garage Area', 'Garage Qual',\n",
       "       'Garage Cond', 'Paved Drive', 'Wood Deck SF', 'Open Porch SF',\n",
       "       'Enclosed Porch', '3Ssn Porch', 'Screen Porch', 'Pool Area', 'Pool QC',\n",
       "       'Fence', 'Misc Feature', 'Misc Val', 'Mo Sold', 'Yr Sold', 'Sale Type'],\n",
       "      dtype='object')"
      ]
     },
     "execution_count": 15,
     "metadata": {},
     "output_type": "execute_result"
    }
   ],
   "source": [
    "test.shape\n",
    "#to see the shape of the test dataframe\n",
    "test.columns\n",
    "#to look into the columns of test"
   ]
  },
  {
   "cell_type": "code",
   "execution_count": 16,
   "metadata": {},
   "outputs": [
    {
     "name": "stdout",
     "output_type": "stream",
     "text": [
      "9822\n"
     ]
    }
   ],
   "source": [
    "print(train.isnull().values.sum())\n",
    "#check for the sum of all null values"
   ]
  },
  {
   "cell_type": "code",
   "execution_count": 17,
   "metadata": {},
   "outputs": [],
   "source": [
    "test.fillna(test.median(), inplace=True)\n",
    "#fill the Nan of test with the median of test"
   ]
  },
  {
   "cell_type": "code",
   "execution_count": 18,
   "metadata": {},
   "outputs": [
    {
     "name": "stdout",
     "output_type": "stream",
     "text": [
      "9822\n"
     ]
    }
   ],
   "source": [
    "print(train.isnull().values.sum())\n",
    "#to look into the columns of test"
   ]
  },
  {
   "cell_type": "markdown",
   "metadata": {},
   "source": [
    "### Fill NA of numerical train set"
   ]
  },
  {
   "cell_type": "code",
   "execution_count": 19,
   "metadata": {},
   "outputs": [],
   "source": [
    "train.fillna(train.median(), inplace=True)\n",
    "#fill the Nan of train with the median of test"
   ]
  },
  {
   "cell_type": "code",
   "execution_count": 20,
   "metadata": {},
   "outputs": [
    {
     "name": "stdout",
     "output_type": "stream",
     "text": [
      "Id              0\n",
      "PID             0\n",
      "MS SubClass     0\n",
      "MS Zoning       0\n",
      "Lot Frontage    0\n",
      "               ..\n",
      "Misc Val        0\n",
      "Mo Sold         0\n",
      "Yr Sold         0\n",
      "Sale Type       0\n",
      "SalePrice       0\n",
      "Length: 81, dtype: int64\n"
     ]
    }
   ],
   "source": [
    "print(train.isnull().sum())\n",
    "#check if there are any Null values in the train dataset"
   ]
  },
  {
   "cell_type": "code",
   "execution_count": 21,
   "metadata": {},
   "outputs": [
    {
     "name": "stdout",
     "output_type": "stream",
     "text": [
      "9346\n"
     ]
    }
   ],
   "source": [
    "print(train.isnull().values.sum())\n",
    "#check for the sum of all null values"
   ]
  },
  {
   "cell_type": "code",
   "execution_count": 22,
   "metadata": {},
   "outputs": [
    {
     "data": {
      "text/plain": [
       "Id                0\n",
       "PID               0\n",
       "MS SubClass       0\n",
       "MS Zoning         0\n",
       "Lot Frontage      0\n",
       "               ... \n",
       "Misc Feature    838\n",
       "Misc Val          0\n",
       "Mo Sold           0\n",
       "Yr Sold           0\n",
       "Sale Type         0\n",
       "Length: 80, dtype: int64"
      ]
     },
     "execution_count": 22,
     "metadata": {},
     "output_type": "execute_result"
    }
   ],
   "source": [
    "test.isnull().sum()\n",
    "#check if there are any Null values in the train dataset"
   ]
  },
  {
   "cell_type": "code",
   "execution_count": 23,
   "metadata": {},
   "outputs": [
    {
     "data": {
      "text/plain": [
       "3969"
      ]
     },
     "execution_count": 23,
     "metadata": {},
     "output_type": "execute_result"
    }
   ],
   "source": [
    "test.isnull().values.sum()"
   ]
  },
  {
   "cell_type": "markdown",
   "metadata": {},
   "source": [
    "### Fill NA of categorical train set"
   ]
  },
  {
   "cell_type": "code",
   "execution_count": 24,
   "metadata": {},
   "outputs": [
    {
     "name": "stdout",
     "output_type": "stream",
     "text": [
      "9346\n"
     ]
    }
   ],
   "source": [
    "print(train.isnull().values.sum())"
   ]
  },
  {
   "cell_type": "code",
   "execution_count": 25,
   "metadata": {},
   "outputs": [],
   "source": [
    "train.fillna(\"Unknown\",inplace = True)\n",
    "#fill the Nan with Unknown"
   ]
  },
  {
   "cell_type": "code",
   "execution_count": 26,
   "metadata": {},
   "outputs": [
    {
     "name": "stdout",
     "output_type": "stream",
     "text": [
      "0\n"
     ]
    }
   ],
   "source": [
    "print(train.isnull().values.sum())\n",
    "#check for any remaining Nan"
   ]
  },
  {
   "cell_type": "markdown",
   "metadata": {},
   "source": [
    "### Fill NA of categorical test set"
   ]
  },
  {
   "cell_type": "code",
   "execution_count": 27,
   "metadata": {},
   "outputs": [
    {
     "name": "stdout",
     "output_type": "stream",
     "text": [
      "0\n"
     ]
    }
   ],
   "source": [
    "print(train.isnull().values.sum())\n",
    "#check for any remaining Nan"
   ]
  },
  {
   "cell_type": "code",
   "execution_count": 28,
   "metadata": {},
   "outputs": [],
   "source": [
    "train.fillna(\"Unknown\",inplace = True)\n",
    "#fill the Nan with Unknown"
   ]
  },
  {
   "cell_type": "code",
   "execution_count": 29,
   "metadata": {},
   "outputs": [
    {
     "name": "stdout",
     "output_type": "stream",
     "text": [
      "0\n"
     ]
    }
   ],
   "source": [
    "print(train.isnull().values.sum())\n",
    "#check for any remaining Nan"
   ]
  },
  {
   "cell_type": "markdown",
   "metadata": {},
   "source": [
    "## Data cleaning: Removing Outliers\n",
    "From the Data Description:\n",
    "\n",
    "There are 5 observations that an instructor may wish to remove from the data set before giving it to students (a plot of SALE PRICE versus GR LIV AREA will indicate them quickly). Three of them are true outliers (Partial Sales that likely don’t represent actual market values) and two of them are simply unusual sales (very large houses priced relatively appropriately). I would recommend removing any houses with more than 4000 square feet from the data set (which eliminates these 5 unusual observations) before assigning it to students.\n"
   ]
  },
  {
   "cell_type": "code",
   "execution_count": 30,
   "metadata": {},
   "outputs": [
    {
     "data": {
      "text/plain": [
       "<AxesSubplot:xlabel='Gr Liv Area', ylabel='SalePrice'>"
      ]
     },
     "execution_count": 30,
     "metadata": {},
     "output_type": "execute_result"
    },
    {
     "data": {
      "image/png": "[encoded data removed]",
      "text/plain": [
       "<Figure size 432x288 with 1 Axes>"
      ]
     },
     "metadata": {
      "needs_background": "light"
     },
     "output_type": "display_data"
    }
   ],
   "source": [
    "sns.scatterplot(data=train, y=\"SalePrice\", x=\"Gr Liv Area\")\n",
    "#we plot a graph to look for any outliers"
   ]
  },
  {
   "cell_type": "markdown",
   "metadata": {},
   "source": [
    "Since there are 2 data that are way off , we should remove those 2 data columns from the dataframe"
   ]
  },
  {
   "cell_type": "code",
   "execution_count": 31,
   "metadata": {},
   "outputs": [
    {
     "data": {
      "text/plain": [
       "(2051, 81)"
      ]
     },
     "execution_count": 31,
     "metadata": {},
     "output_type": "execute_result"
    }
   ],
   "source": [
    "train.shape\n",
    "#check the shape for train"
   ]
  },
  {
   "cell_type": "code",
   "execution_count": 32,
   "metadata": {},
   "outputs": [
    {
     "data": {
      "text/plain": [
       "array([5642, 5095])"
      ]
     },
     "execution_count": 32,
     "metadata": {},
     "output_type": "execute_result"
    }
   ],
   "source": [
    "train['Gr Liv Area'].values[train['Gr Liv Area'] > 5000] \n",
    "#find the 2 numbers that are outliers\n",
    "#we need to drop the rows that fulfil this condition \n",
    "\n",
    "\n"
   ]
  },
  {
   "cell_type": "code",
   "execution_count": 33,
   "metadata": {},
   "outputs": [
    {
     "data": {
      "text/plain": [
       "(2049, 81)"
      ]
     },
     "execution_count": 33,
     "metadata": {},
     "output_type": "execute_result"
    }
   ],
   "source": [
    "train_cleaned = train[train['Gr Liv Area'] < 5000]\n",
    "train_cleaned['Gr Liv Area']\n",
    "#the 2 outliers are now dropped\n",
    "\n",
    "train_cleaned.shape"
   ]
  },
  {
   "cell_type": "code",
   "execution_count": 34,
   "metadata": {},
   "outputs": [],
   "source": [
    "test_cleaned = test\n",
    "#we save the cleaned data in a new variable"
   ]
  },
  {
   "cell_type": "code",
   "execution_count": 35,
   "metadata": {},
   "outputs": [
    {
     "data": {
      "text/plain": [
       "(879, 80)"
      ]
     },
     "execution_count": 35,
     "metadata": {},
     "output_type": "execute_result"
    }
   ],
   "source": [
    "test_cleaned.shape\n",
    "#we must have 879 rows for the final submission dataset so this is correct"
   ]
  },
  {
   "cell_type": "markdown",
   "metadata": {},
   "source": [
    "## Data Cleaning: Export\n",
    "**now that we have cleaned the data, we can export it**"
   ]
  },
  {
   "cell_type": "code",
   "execution_count": 36,
   "metadata": {},
   "outputs": [],
   "source": [
    "train_cleaned.to_csv('../datasets/train_cleaned.csv')\n",
    "#export train_cleaned as csv"
   ]
  },
  {
   "cell_type": "code",
   "execution_count": 37,
   "metadata": {},
   "outputs": [],
   "source": [
    "test_cleaned.to_csv('../datasets/test_cleaned.csv')\n",
    "#export train_cleaned as csv"
   ]
  }
 ],
 "metadata": {
  "kernelspec": {
   "display_name": "Python 3",
   "language": "python",
   "name": "python3"
  },
  "language_info": {
   "codemirror_mode": {
    "name": "ipython",
    "version": 3
   },
   "file_extension": ".py",
   "mimetype": "text/x-python",
   "name": "python",
   "nbconvert_exporter": "python",
   "pygments_lexer": "ipython3",
   "version": "3.8.5"
  }
 },
 "nbformat": 4,
 "nbformat_minor": 4
}
